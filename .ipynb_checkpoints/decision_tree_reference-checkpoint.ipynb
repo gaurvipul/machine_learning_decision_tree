{
 "cells": [
  {
   "cell_type": "markdown",
   "metadata": {},
   "source": [
    "# Decision Tree Classifier\n",
    "\n",
    "    - Supervised learning algorithm\n",
    "    - Decision trees are a non-parametric supervised learning method used for classification and regression. \n",
    "    - Decision tree implementation goal to create a model that predicts the value of a target variable by \n",
    "    learning simple decision rules inferred from the data features."
   ]
  }
 ],
 "metadata": {
  "kernelspec": {
   "display_name": "Python [conda env:numpy-course]",
   "language": "python",
   "name": "conda-env-numpy-course-py"
  },
  "language_info": {
   "codemirror_mode": {
    "name": "ipython",
    "version": 3
   },
   "file_extension": ".py",
   "mimetype": "text/x-python",
   "name": "python",
   "nbconvert_exporter": "python",
   "pygments_lexer": "ipython3",
   "version": "3.5.6"
  }
 },
 "nbformat": 4,
 "nbformat_minor": 2
}
